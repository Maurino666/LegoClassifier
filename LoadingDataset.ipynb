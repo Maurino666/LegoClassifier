{
 "nbformat": 4,
 "nbformat_minor": 0,
 "metadata": {
  "colab": {
   "provenance": [],
   "authorship_tag": "ABX9TyMusGyq3Pem37w7sf4RMWc9"
  },
  "kernelspec": {
   "name": "python3",
   "display_name": "Python 3"
  },
  "language_info": {
   "name": "python"
  }
 },
 "cells": [
  {
   "metadata": {},
   "cell_type": "markdown",
   "source": "These are the steps to upload and use the datasets on colab."
  },
  {
   "cell_type": "code",
   "metadata": {
    "colab": {
     "base_uri": "https://localhost:8080/",
     "height": 91
    },
    "id": "idGsDYs3DzIB",
    "outputId": "977d9411-7520-4b73-802f-f81cd9c23edf"
   },
   "source": [
    "from google.colab import files\n",
    "files.upload()"
   ],
   "outputs": [],
   "execution_count": null
  },
  {
   "cell_type": "code",
   "source": [
    "!mkdir -p ~/.kaggle\n",
    "!mv kaggle.json ~/.kaggle/\n",
    "!chmod 600 ~/.kaggle/kaggle.json"
   ],
   "metadata": {
    "id": "YHIDhmNHEbaK"
   },
   "outputs": [],
   "execution_count": null
  },
  {
   "cell_type": "code",
   "source": [
    "!pip install kagglehub"
   ],
   "metadata": {
    "colab": {
     "base_uri": "https://localhost:8080/"
    },
    "id": "pvfqpnuwFPmM",
    "outputId": "8f2c5299-e091-435f-c347-c57889f16bc8"
   },
   "outputs": [],
   "execution_count": null
  },
  {
   "cell_type": "code",
   "source": [
    "import kagglehub\n",
    "\n",
    "# Download latest version\n",
    "path = kagglehub.dataset_download(\"ronanpickell/b200c-lego-classification-dataset\")\n",
    "\n",
    "print(\"Path to dataset files:\", path)"
   ],
   "metadata": {
    "colab": {
     "base_uri": "https://localhost:8080/"
    },
    "id": "tCw9owpFE9Fh",
    "outputId": "0301e4e3-d9f2-4d69-d7b6-b240f8c568a5"
   },
   "outputs": [],
   "execution_count": null
  },
  {
   "cell_type": "code",
   "source": [
    "import os\n",
    "\n",
    "print(\"Contenuto della cartella:\")\n",
    "print(os.listdir(path + \"/D1\"))"
   ],
   "metadata": {
    "colab": {
     "base_uri": "https://localhost:8080/"
    },
    "id": "mw_CcXtoF6Is",
    "outputId": "202f0001-3aae-4fd4-f7b1-0a25eb55d341"
   },
   "outputs": [],
   "execution_count": null
  },
  {
   "cell_type": "markdown",
   "source": "Code used  to clone the repository and upload notebooks",
   "metadata": {
    "id": "8PIDM8JBMYoT"
   }
  },
  {
   "cell_type": "code",
   "source": [
    "!git clone https://github.com/Maurino666/LegoClassifier.git"
   ],
   "metadata": {
    "colab": {
     "base_uri": "https://localhost:8080/"
    },
    "id": "OEIQJ1zdMYCB",
    "outputId": "536bcf55-5089-4a6b-be8d-a551920bae5e"
   },
   "outputs": [],
   "execution_count": null
  },
  {
   "cell_type": "code",
   "source": [
    "!ls"
   ],
   "metadata": {
    "colab": {
     "base_uri": "https://localhost:8080/"
    },
    "id": "HVsL7UaMVMgk",
    "outputId": "84104461-00da-40ac-998b-0cd7f9a6a13e"
   },
   "outputs": [],
   "execution_count": null
  },
  {
   "cell_type": "code",
   "source": [
    "from google.colab import drive\n",
    "drive.mount('/content/drive')"
   ],
   "metadata": {
    "colab": {
     "base_uri": "https://localhost:8080/"
    },
    "id": "tv0Mj-X2OPOR",
    "outputId": "dc09150b-7d43-4113-a4fc-dad281a4a8be"
   },
   "outputs": [],
   "execution_count": null
  },
  {
   "cell_type": "code",
   "source": [
    "!git clone https://github.com/Maurino666/LegoClassifier.git"
   ],
   "metadata": {
    "colab": {
     "base_uri": "https://localhost:8080/"
    },
    "id": "3tdag38WNLMX",
    "outputId": "8eee050f-bd14-49ad-de15-7797b65ef5ac"
   },
   "outputs": [],
   "execution_count": null
  },
  {
   "metadata": {},
   "cell_type": "markdown",
   "source": "Setup github credentials"
  },
  {
   "cell_type": "code",
   "source": [
    "!git config --global user.name \"Maurino666\"\n",
    "!git config --global user.email \"maurilio.larocca@gmail.com\"\n",
    "from getpass import getpass\n",
    "import os\n",
    "token = getpass(\"Inserisci il tuo token GitHub:\")\n",
    "os.environ[\"GITHUB_TOKEN\"] = token\n",
    "!git remote set-url origin https://{os.environ[\"GITHUB_TOKEN\"]}@github.com/Maurino666/LegoClassifier.git"
   ],
   "metadata": {
    "colab": {
     "base_uri": "https://localhost:8080/"
    },
    "id": "WME2mGioNwvD",
    "outputId": "c288f696-aeb5-46f1-ca35-bbf5c7be1bbb"
   },
   "outputs": [],
   "execution_count": null
  },
  {
   "metadata": {},
   "cell_type": "markdown",
   "source": "code to push on github repo"
  },
  {
   "cell_type": "code",
   "source": [
    "!git add LoadingDataset.ipynb\n",
    "!git commit -m \"Primo file da colab per il setupp della cartella\"\n",
    "!git push origin main"
   ],
   "metadata": {
    "colab": {
     "base_uri": "https://localhost:8080/"
    },
    "id": "D1pm64izT3hh",
    "outputId": "5dd97355-7b0c-4221-dc3a-07fc48e582d8"
   },
   "outputs": [],
   "execution_count": null
  }
 ]
}
